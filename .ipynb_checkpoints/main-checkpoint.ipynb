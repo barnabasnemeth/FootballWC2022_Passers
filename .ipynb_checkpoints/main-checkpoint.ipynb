{
 "cells": [
  {
   "cell_type": "code",
   "execution_count": 5,
   "id": "404fa62e",
   "metadata": {},
   "outputs": [
    {
     "ename": "ImportError",
     "evalue": "cannot import name '_api' from partially initialized module 'matplotlib' (most likely due to a circular import) (C:\\Users\\barnabas.nemeth\\Anaconda3\\lib\\site-packages\\matplotlib\\__init__.py)",
     "output_type": "error",
     "traceback": [
      "\u001b[1;31m---------------------------------------------------------------------------\u001b[0m",
      "\u001b[1;31mImportError\u001b[0m                               Traceback (most recent call last)",
      "Cell \u001b[1;32mIn[5], line 4\u001b[0m\n\u001b[0;32m      2\u001b[0m \u001b[38;5;28;01mimport\u001b[39;00m \u001b[38;5;21;01mpandas\u001b[39;00m \u001b[38;5;28;01mas\u001b[39;00m \u001b[38;5;21;01mpd\u001b[39;00m\n\u001b[0;32m      3\u001b[0m \u001b[38;5;28;01mimport\u001b[39;00m \u001b[38;5;21;01mnumpy\u001b[39;00m \u001b[38;5;28;01mas\u001b[39;00m \u001b[38;5;21;01mnp\u001b[39;00m\n\u001b[1;32m----> 4\u001b[0m \u001b[38;5;28;01mimport\u001b[39;00m \u001b[38;5;21;01mmatplotlib\u001b[39;00m\u001b[38;5;21;01m.\u001b[39;00m\u001b[38;5;21;01mpyplot\u001b[39;00m \u001b[38;5;28;01mas\u001b[39;00m \u001b[38;5;21;01mplt\u001b[39;00m\n\u001b[0;32m      5\u001b[0m \u001b[38;5;28;01mfrom\u001b[39;00m \u001b[38;5;21;01madjustText\u001b[39;00m \u001b[38;5;28;01mimport\u001b[39;00m adjust_text\n\u001b[0;32m      6\u001b[0m \u001b[38;5;28;01mfrom\u001b[39;00m \u001b[38;5;21;01mmplsoccer\u001b[39;00m \u001b[38;5;28;01mimport\u001b[39;00m Pitch, Sbopen\n",
      "File \u001b[1;32m~\\Anaconda3\\lib\\site-packages\\matplotlib\\__init__.py:157\u001b[0m\n\u001b[0;32m    153\u001b[0m \u001b[38;5;28;01mfrom\u001b[39;00m \u001b[38;5;21;01mpackaging\u001b[39;00m\u001b[38;5;21;01m.\u001b[39;00m\u001b[38;5;21;01mversion\u001b[39;00m \u001b[38;5;28;01mimport\u001b[39;00m parse \u001b[38;5;28;01mas\u001b[39;00m parse_version\n\u001b[0;32m    155\u001b[0m \u001b[38;5;66;03m# cbook must import matplotlib only within function\u001b[39;00m\n\u001b[0;32m    156\u001b[0m \u001b[38;5;66;03m# definitions, so it is safe to import from it here.\u001b[39;00m\n\u001b[1;32m--> 157\u001b[0m \u001b[38;5;28;01mfrom\u001b[39;00m \u001b[38;5;21;01m.\u001b[39;00m \u001b[38;5;28;01mimport\u001b[39;00m _api, _version, cbook, _docstring, rcsetup\n\u001b[0;32m    158\u001b[0m \u001b[38;5;28;01mfrom\u001b[39;00m \u001b[38;5;21;01mmatplotlib\u001b[39;00m\u001b[38;5;21;01m.\u001b[39;00m\u001b[38;5;21;01mcbook\u001b[39;00m \u001b[38;5;28;01mimport\u001b[39;00m sanitize_sequence\n\u001b[0;32m    159\u001b[0m \u001b[38;5;28;01mfrom\u001b[39;00m \u001b[38;5;21;01mmatplotlib\u001b[39;00m\u001b[38;5;21;01m.\u001b[39;00m\u001b[38;5;21;01m_api\u001b[39;00m \u001b[38;5;28;01mimport\u001b[39;00m MatplotlibDeprecationWarning\n",
      "File \u001b[1;32m~\\Anaconda3\\lib\\site-packages\\matplotlib\\cbook\\__init__.py:35\u001b[0m\n\u001b[0;32m     32\u001b[0m     \u001b[38;5;28;01mfrom\u001b[39;00m \u001b[38;5;21;01mnumpy\u001b[39;00m \u001b[38;5;28;01mimport\u001b[39;00m VisibleDeprecationWarning\n\u001b[0;32m     34\u001b[0m \u001b[38;5;28;01mimport\u001b[39;00m \u001b[38;5;21;01mmatplotlib\u001b[39;00m\n\u001b[1;32m---> 35\u001b[0m \u001b[38;5;28;01mfrom\u001b[39;00m \u001b[38;5;21;01mmatplotlib\u001b[39;00m \u001b[38;5;28;01mimport\u001b[39;00m _api, _c_internal_utils\n\u001b[0;32m     38\u001b[0m \u001b[38;5;129m@_api\u001b[39m\u001b[38;5;241m.\u001b[39mcaching_module_getattr\n\u001b[0;32m     39\u001b[0m \u001b[38;5;28;01mclass\u001b[39;00m \u001b[38;5;21;01m__getattr__\u001b[39;00m:\n\u001b[0;32m     40\u001b[0m     \u001b[38;5;66;03m# module-level deprecations\u001b[39;00m\n\u001b[0;32m     41\u001b[0m     MatplotlibDeprecationWarning \u001b[38;5;241m=\u001b[39m _api\u001b[38;5;241m.\u001b[39mdeprecated(\n\u001b[0;32m     42\u001b[0m         \u001b[38;5;124m\"\u001b[39m\u001b[38;5;124m3.6\u001b[39m\u001b[38;5;124m\"\u001b[39m, obj_type\u001b[38;5;241m=\u001b[39m\u001b[38;5;124m\"\u001b[39m\u001b[38;5;124m\"\u001b[39m,\n\u001b[0;32m     43\u001b[0m         alternative\u001b[38;5;241m=\u001b[39m\u001b[38;5;124m\"\u001b[39m\u001b[38;5;124mmatplotlib.MatplotlibDeprecationWarning\u001b[39m\u001b[38;5;124m\"\u001b[39m)(\n\u001b[0;32m     44\u001b[0m         \u001b[38;5;28mproperty\u001b[39m(\u001b[38;5;28;01mlambda\u001b[39;00m \u001b[38;5;28mself\u001b[39m: _api\u001b[38;5;241m.\u001b[39mdeprecation\u001b[38;5;241m.\u001b[39mMatplotlibDeprecationWarning))\n",
      "\u001b[1;31mImportError\u001b[0m: cannot import name '_api' from partially initialized module 'matplotlib' (most likely due to a circular import) (C:\\Users\\barnabas.nemeth\\Anaconda3\\lib\\site-packages\\matplotlib\\__init__.py)"
     ]
    }
   ],
   "source": [
    "from statsbombpy import sb\n",
    "import pandas as pd\n",
    "import numpy as np\n",
    "import matplotlib.pyplot as plt\n",
    "from adjustText import adjust_text\n",
    "from mplsoccer import Pitch, Sbopen"
   ]
  },
  {
   "cell_type": "code",
   "execution_count": null,
   "id": "0a4dd396",
   "metadata": {},
   "outputs": [],
   "source": [
    "sb.competitions().sort_values('season_name', ascending = False).head(10)"
   ]
  },
  {
   "cell_type": "code",
   "execution_count": null,
   "id": "93bcc2b7",
   "metadata": {},
   "outputs": [],
   "source": [
    "matches = sb.matches(competition_id=43, season_id=106)"
   ]
  },
  {
   "cell_type": "code",
   "execution_count": null,
   "id": "fe882edd",
   "metadata": {},
   "outputs": [],
   "source": [
    "matches['match_id']"
   ]
  },
  {
   "cell_type": "code",
   "execution_count": null,
   "id": "d5d9e692",
   "metadata": {},
   "outputs": [],
   "source": [
    "# Concatenate all dataframes\n",
    "\n",
    "df_events = pd.DataFrame()\n",
    "\n",
    "matches['match_id']\n",
    "\n",
    "\n",
    "for i in range(len(matches['match_id'])):\n",
    "    \n",
    "    event = sb.events(match_id=matches['match_id'][i])\n",
    "    \n",
    "    df_events = pd.concat([df_events, event])"
   ]
  },
  {
   "cell_type": "code",
   "execution_count": null,
   "id": "1e184b89",
   "metadata": {},
   "outputs": [],
   "source": []
  },
  {
   "cell_type": "code",
   "execution_count": null,
   "id": "76808f7b",
   "metadata": {},
   "outputs": [],
   "source": [
    "df_events['location'].apply(lambda x : x.replace('NaN', 0))"
   ]
  },
  {
   "cell_type": "code",
   "execution_count": null,
   "id": "035895ba",
   "metadata": {},
   "outputs": [],
   "source": [
    "## Adding the locations of the passes to calculate the average\n",
    "event_passes['x_loc'] = event_passes['location'].apply(lambda x : x[0])\n",
    "\n",
    "event_passes['y_loc'] = event_passes['location'].apply(lambda x : x[1])"
   ]
  },
  {
   "cell_type": "code",
   "execution_count": null,
   "id": "ac114197",
   "metadata": {},
   "outputs": [],
   "source": [
    "event_passes = df_events[df_events['type'] == 'Pass']\n",
    "\n",
    "## Adding the locations of the passes to calculate the average\n",
    "event_passes['x_loc'] = event_passes['location'].apply(lambda x : x[0])\n",
    "\n",
    "event_passes['y_loc'] = event_passes['location'].apply(lambda x : x[1])\n",
    "\n",
    "\n",
    "df = event_passes.groupby(['player_id', 'player']).count()['team'].to_frame('total_passes')\n",
    "\n",
    "df['completed'] = event_passes[event_passes['pass_outcome'] != 'Incomplete'].groupby(['player_id','player'])['team'].count()\n",
    "\n",
    "df['length'] = event_passes.groupby(['player_id', 'player']).sum()['pass_length'].to_list()\n",
    "\n",
    "df['x_loc'] = event_passes.groupby(['player_id', 'player']).mean()['x_loc']\n",
    "\n",
    "df['y_loc'] = event_passes.groupby(['player_id', 'player']).mean()['y_loc']\n"
   ]
  },
  {
   "cell_type": "code",
   "execution_count": null,
   "id": "42f52647",
   "metadata": {},
   "outputs": [],
   "source": [
    "df['pass_pct'] = df['completed'] / df['total_passes'] *100"
   ]
  },
  {
   "cell_type": "code",
   "execution_count": null,
   "id": "0939a558",
   "metadata": {},
   "outputs": [],
   "source": [
    "# Select players with at least 100 passes attempted\n",
    "\n",
    "df_top = df[df['total_passes'] > 100]"
   ]
  },
  {
   "cell_type": "code",
   "execution_count": null,
   "id": "ed5d6aca",
   "metadata": {},
   "outputs": [],
   "source": [
    "df_top.reset_index(inplace = True)"
   ]
  },
  {
   "cell_type": "code",
   "execution_count": null,
   "id": "cb8b752a",
   "metadata": {},
   "outputs": [],
   "source": [
    "df_top.sort_values('pass_pct', ascending = False).head(15)"
   ]
  },
  {
   "cell_type": "code",
   "execution_count": null,
   "id": "428907dc",
   "metadata": {},
   "outputs": [],
   "source": [
    "total_passes = df_top['total_passes']\n",
    "pass_pct = df_top['pass_pct']\n",
    "length = df_top['length']  # Sum length of the players' passes\n",
    "\n",
    "# Set figure size\n",
    "plt.figure(figsize=(20,15))\n",
    "\n",
    "# Create scatter plot with 'length' as hue\n",
    "# The larger the 'length', the darker the color\n",
    "plt.scatter(total_passes, pass_pct, c=length, cmap='OrRd')\n",
    "\n",
    "# Adding titles and labels\n",
    "plt.title('Pass Completion Percentage by Total Passes')\n",
    "plt.xlabel('Total Passes')\n",
    "plt.ylabel('Pass Completion Percentage (%)')\n",
    "plt.colorbar(label='Pass Length Sum')  # Add color bar to indicate what the colors represent\n",
    "\n",
    "# Calculate medians\n",
    "median_total_passes = np.median(total_passes)\n",
    "median_pass_pct = np.median(pass_pct)\n",
    "\n",
    "# Draw median lines\n",
    "plt.axhline(y=median_pass_pct, color='r', linestyle='--', label=f'Median Pass %: {median_pass_pct}')\n",
    "plt.axvline(x=median_total_passes, color='g', linestyle='--', label=f'Median Total Passes: {median_total_passes}')\n",
    "\n",
    "texts = []\n",
    "# Annotate the top 20 total_passes with player names\n",
    "top_20_total_passes = df_top.sort_values('total_passes', ascending=False).head(20)\n",
    "for index, row in top_20_total_passes.iterrows():\n",
    "    texts.append(plt.text(row['total_passes'], row['pass_pct'], row['player'], ha='center'))\n",
    "\n",
    "# Annotate the top 20 pass_pct with player names, avoiding duplicates\n",
    "top_20_pass_pct = df_top.sort_values('pass_pct', ascending=False).head(20)\n",
    "for index, row in top_20_pass_pct.iterrows():\n",
    "    if row['player'] not in top_20_total_passes['player'].values:\n",
    "        texts.append(plt.text(row['total_passes'], row['pass_pct'], row['player'], ha='center'))\n",
    "\n",
    "# Automatically adjust the text positions\n",
    "adjust_text(texts, arrowprops=dict(arrowstyle='->', color='red'))\n",
    "\n",
    "# Show plot\n",
    "plt.show()"
   ]
  },
  {
   "cell_type": "code",
   "execution_count": null,
   "id": "cb4c7402",
   "metadata": {},
   "outputs": [],
   "source": [
    "top_player_names = []\n",
    "\n",
    "for i in range(len(texts)):\n",
    "    name = texts[i].get_text()\n",
    "    top_player_names.append(name)"
   ]
  },
  {
   "cell_type": "code",
   "execution_count": null,
   "id": "63a184d1",
   "metadata": {},
   "outputs": [],
   "source": []
  },
  {
   "cell_type": "code",
   "execution_count": null,
   "id": "34e654f5",
   "metadata": {},
   "outputs": [],
   "source": [
    "df_top_players = df_top.loc[(slice(None),top_player_names),:]"
   ]
  },
  {
   "cell_type": "code",
   "execution_count": null,
   "id": "09e892d3",
   "metadata": {},
   "outputs": [],
   "source": [
    "df_top_players['avg_passing_pos'] = df_top_players[['x_loc', 'y_loc']].values.tolist()"
   ]
  },
  {
   "cell_type": "code",
   "execution_count": null,
   "id": "c67e5da6",
   "metadata": {},
   "outputs": [],
   "source": [
    "df_top_players"
   ]
  },
  {
   "cell_type": "markdown",
   "id": "f8defb7c",
   "metadata": {},
   "source": [
    "## Summary\n",
    "\n",
    "#### Limitations\n",
    "1) This analysis aggregates all matches from the 2022 FIFA World Cup, therefore the more a team played, the more players they probably have in the top performing athletes in passing. However, it is important to see that long-term performance is really important during a tournament which becomes harder as the team progresses.\n",
    "\n",
    "2) The direction of the passes are not taken into account, nor the pressure players had by the opposition players.\n",
    "\n",
    "#### Key Findings\n",
    "\n",
    "1) Rodrigo Hernández Cascante (Rodri - playing for Manchester City) has the highest number of passes and also the largest total length with a 95,29% passing percentage. This is an incredible performance even though the directions of the passes can't be seen. Also, Spain were knocked out in the round of 16 against Morocco, so Rodri could only play 4 matches (in comparison to the last 4 teams (Argentina, France, Croatia, Morocco) who played 7 games in total.\n",
    "\n",
    "2) There are many players from Croatia in the top right corner of the plot which means these players passed more and more accurately than 50% of the players analyzed (players with more than 100 passes during the tournament). Gvardiol, Lovren, Kovacic, Brozovic, Modric are in the top right corner while Juranovic (right back, playing for Union Berlin - born in 1995) also played a lot of passes with a more than 80% success. He can be a good and fairly cheap fit for a passing team.\n",
    "\n",
    "3) "
   ]
  }
 ],
 "metadata": {
  "kernelspec": {
   "display_name": "Python 3 (ipykernel)",
   "language": "python",
   "name": "python3"
  },
  "language_info": {
   "codemirror_mode": {
    "name": "ipython",
    "version": 3
   },
   "file_extension": ".py",
   "mimetype": "text/x-python",
   "name": "python",
   "nbconvert_exporter": "python",
   "pygments_lexer": "ipython3",
   "version": "3.8.8"
  }
 },
 "nbformat": 4,
 "nbformat_minor": 5
}
